{
 "cells": [
  {
   "cell_type": "markdown",
   "metadata": {},
   "source": [
    "# Cleaning and Preprocessing the Monthly Webinar Data for Making a Standard Structure\n",
    "\n",
    "This notebook is intended to analyze the data of the monthly webinars in the MEXICAN AESCULAP ACADEMY.\n",
    "\n",
    "Author : Axel Daniel Malváez Flores  \n",
    "Date : July 13th, 2023  \n",
    "Version : 1.0.0  "
   ]
  },
  {
   "cell_type": "code",
   "execution_count": 1,
   "metadata": {},
   "outputs": [],
   "source": [
    "import pandas as pd\n",
    "import numpy as np\n",
    "import matplotlib.pyplot as plt\n",
    "import seaborn as sns\n",
    "\n",
    "sns.set_style('whitegrid')"
   ]
  },
  {
   "cell_type": "code",
   "execution_count": 2,
   "metadata": {},
   "outputs": [
    {
     "data": {
      "text/html": [
       "<div>\n",
       "<style scoped>\n",
       "    .dataframe tbody tr th:only-of-type {\n",
       "        vertical-align: middle;\n",
       "    }\n",
       "\n",
       "    .dataframe tbody tr th {\n",
       "        vertical-align: top;\n",
       "    }\n",
       "\n",
       "    .dataframe thead th {\n",
       "        text-align: right;\n",
       "    }\n",
       "</style>\n",
       "<table border=\"1\" class=\"dataframe\">\n",
       "  <thead>\n",
       "    <tr style=\"text-align: right;\">\n",
       "      <th></th>\n",
       "      <th>respondent_id</th>\n",
       "      <th>collector_id</th>\n",
       "      <th>date_created</th>\n",
       "      <th>date_modified</th>\n",
       "      <th>ip_address</th>\n",
       "      <th>email_address</th>\n",
       "      <th>first_name</th>\n",
       "      <th>last_name</th>\n",
       "      <th>custom_1</th>\n",
       "      <th>Abreviación de su titulo: (Response)</th>\n",
       "      <th>...</th>\n",
       "      <th>Día Internacional del Sarcoma</th>\n",
       "      <th>Organización general:</th>\n",
       "      <th>Modalidad virtual (Zoom):</th>\n",
       "      <th>Horario:</th>\n",
       "      <th>¿Cómo calificaría esta sesión en general?</th>\n",
       "      <th>¿Qué es lo que más te gusta?</th>\n",
       "      <th>¿Qué otros temas te interesarían?</th>\n",
       "      <th>¿Qué podriamos mejorar en los eventos de Academia Aesculap?</th>\n",
       "      <th>¿Qué tan probable es que recomiendes está sesión a tus amigos o familiares?</th>\n",
       "      <th>Aviso de Privacidad</th>\n",
       "    </tr>\n",
       "  </thead>\n",
       "  <tbody>\n",
       "    <tr>\n",
       "      <th>0</th>\n",
       "      <td>114365999487</td>\n",
       "      <td>426790957</td>\n",
       "      <td>2023-07-12 23:31:35</td>\n",
       "      <td>2023-07-12 23:33:45</td>\n",
       "      <td>187.190.207.107</td>\n",
       "      <td>NaN</td>\n",
       "      <td>NaN</td>\n",
       "      <td>NaN</td>\n",
       "      <td>NaN</td>\n",
       "      <td>Mtra.</td>\n",
       "      <td>...</td>\n",
       "      <td>Bueno</td>\n",
       "      <td>Bueno</td>\n",
       "      <td>Bueno</td>\n",
       "      <td>Bueno</td>\n",
       "      <td>Bueno</td>\n",
       "      <td>Gracias academia aesculap</td>\n",
       "      <td>Código rojo</td>\n",
       "      <td>NaN</td>\n",
       "      <td>10</td>\n",
       "      <td>He leído y estoy de acuerdo con el  AVISO DE P...</td>\n",
       "    </tr>\n",
       "    <tr>\n",
       "      <th>1</th>\n",
       "      <td>114365979045</td>\n",
       "      <td>426790957</td>\n",
       "      <td>2023-07-12 22:36:58</td>\n",
       "      <td>2023-07-12 22:41:13</td>\n",
       "      <td>189.216.207.34</td>\n",
       "      <td>NaN</td>\n",
       "      <td>NaN</td>\n",
       "      <td>NaN</td>\n",
       "      <td>NaN</td>\n",
       "      <td>Dr.</td>\n",
       "      <td>...</td>\n",
       "      <td>Bueno</td>\n",
       "      <td>Bueno</td>\n",
       "      <td>Bueno</td>\n",
       "      <td>Bueno</td>\n",
       "      <td>8</td>\n",
       "      <td>Contenido organización y buen nivel</td>\n",
       "      <td>Ortogeriatria</td>\n",
       "      <td>NaN</td>\n",
       "      <td>10</td>\n",
       "      <td>He leído y estoy de acuerdo con el  AVISO DE P...</td>\n",
       "    </tr>\n",
       "    <tr>\n",
       "      <th>2</th>\n",
       "      <td>114365975998</td>\n",
       "      <td>426790957</td>\n",
       "      <td>2023-07-12 22:28:30</td>\n",
       "      <td>2023-07-12 22:33:27</td>\n",
       "      <td>201.175.240.109</td>\n",
       "      <td>NaN</td>\n",
       "      <td>NaN</td>\n",
       "      <td>NaN</td>\n",
       "      <td>NaN</td>\n",
       "      <td>Dra.</td>\n",
       "      <td>...</td>\n",
       "      <td>Excelente</td>\n",
       "      <td>Excelente</td>\n",
       "      <td>Excelente</td>\n",
       "      <td>Excelente</td>\n",
       "      <td>Excelente</td>\n",
       "      <td>La interacción que tienen los médicos para com...</td>\n",
       "      <td>Lupus eritematoso, glomerulopatias</td>\n",
       "      <td>NaN</td>\n",
       "      <td>10</td>\n",
       "      <td>He leído y estoy de acuerdo con el  AVISO DE P...</td>\n",
       "    </tr>\n",
       "    <tr>\n",
       "      <th>3</th>\n",
       "      <td>114365969665</td>\n",
       "      <td>426790957</td>\n",
       "      <td>2023-07-12 21:42:48</td>\n",
       "      <td>2023-07-12 22:17:30</td>\n",
       "      <td>189.234.132.175</td>\n",
       "      <td>NaN</td>\n",
       "      <td>NaN</td>\n",
       "      <td>NaN</td>\n",
       "      <td>NaN</td>\n",
       "      <td>Otro (especifique)</td>\n",
       "      <td>...</td>\n",
       "      <td>Bueno</td>\n",
       "      <td>Bueno</td>\n",
       "      <td>Bueno</td>\n",
       "      <td>Bueno</td>\n",
       "      <td>8</td>\n",
       "      <td>Todo estubo bien</td>\n",
       "      <td>Por el momento ninguno</td>\n",
       "      <td>El audio</td>\n",
       "      <td>8</td>\n",
       "      <td>He leído y estoy de acuerdo con el  AVISO DE P...</td>\n",
       "    </tr>\n",
       "    <tr>\n",
       "      <th>4</th>\n",
       "      <td>114365965316</td>\n",
       "      <td>426790957</td>\n",
       "      <td>2023-07-12 20:13:10</td>\n",
       "      <td>2023-07-12 22:07:11</td>\n",
       "      <td>189.203.52.31</td>\n",
       "      <td>NaN</td>\n",
       "      <td>NaN</td>\n",
       "      <td>NaN</td>\n",
       "      <td>NaN</td>\n",
       "      <td>Otro (especifique)</td>\n",
       "      <td>...</td>\n",
       "      <td>Excelente</td>\n",
       "      <td>Excelente</td>\n",
       "      <td>Excelente</td>\n",
       "      <td>Excelente</td>\n",
       "      <td>Excelente</td>\n",
       "      <td>Todo</td>\n",
       "      <td>Lavado Quirúrgico</td>\n",
       "      <td>NaN</td>\n",
       "      <td>10</td>\n",
       "      <td>He leído y estoy de acuerdo con el  AVISO DE P...</td>\n",
       "    </tr>\n",
       "  </tbody>\n",
       "</table>\n",
       "<p>5 rows × 35 columns</p>\n",
       "</div>"
      ],
      "text/plain": [
       "   respondent_id  collector_id        date_created       date_modified  \\\n",
       "0   114365999487     426790957 2023-07-12 23:31:35 2023-07-12 23:33:45   \n",
       "1   114365979045     426790957 2023-07-12 22:36:58 2023-07-12 22:41:13   \n",
       "2   114365975998     426790957 2023-07-12 22:28:30 2023-07-12 22:33:27   \n",
       "3   114365969665     426790957 2023-07-12 21:42:48 2023-07-12 22:17:30   \n",
       "4   114365965316     426790957 2023-07-12 20:13:10 2023-07-12 22:07:11   \n",
       "\n",
       "        ip_address  email_address  first_name  last_name  custom_1  \\\n",
       "0  187.190.207.107            NaN         NaN        NaN       NaN   \n",
       "1   189.216.207.34            NaN         NaN        NaN       NaN   \n",
       "2  201.175.240.109            NaN         NaN        NaN       NaN   \n",
       "3  189.234.132.175            NaN         NaN        NaN       NaN   \n",
       "4    189.203.52.31            NaN         NaN        NaN       NaN   \n",
       "\n",
       "  Abreviación de su titulo: (Response)  ... Día Internacional del Sarcoma  \\\n",
       "0                                Mtra.  ...                         Bueno   \n",
       "1                                  Dr.  ...                         Bueno   \n",
       "2                                 Dra.  ...                     Excelente   \n",
       "3                   Otro (especifique)  ...                         Bueno   \n",
       "4                   Otro (especifique)  ...                     Excelente   \n",
       "\n",
       "  Organización general: Modalidad virtual (Zoom):   Horario:  \\\n",
       "0                 Bueno                     Bueno      Bueno   \n",
       "1                 Bueno                     Bueno      Bueno   \n",
       "2             Excelente                 Excelente  Excelente   \n",
       "3                 Bueno                     Bueno      Bueno   \n",
       "4             Excelente                 Excelente  Excelente   \n",
       "\n",
       "  ¿Cómo calificaría esta sesión en general?  \\\n",
       "0                                     Bueno   \n",
       "1                                         8   \n",
       "2                                 Excelente   \n",
       "3                                         8   \n",
       "4                                 Excelente   \n",
       "\n",
       "                        ¿Qué es lo que más te gusta?  \\\n",
       "0                         Gracias academia aesculap    \n",
       "1                Contenido organización y buen nivel   \n",
       "2  La interacción que tienen los médicos para com...   \n",
       "3                                  Todo estubo bien    \n",
       "4                                              Todo    \n",
       "\n",
       "    ¿Qué otros temas te interesarían?  \\\n",
       "0                        Código rojo    \n",
       "1                      Ortogeriatria    \n",
       "2  Lupus eritematoso, glomerulopatias   \n",
       "3              Por el momento ninguno   \n",
       "4                  Lavado Quirúrgico    \n",
       "\n",
       "  ¿Qué podriamos mejorar en los eventos de Academia Aesculap?  \\\n",
       "0                                                NaN            \n",
       "1                                                NaN            \n",
       "2                                                NaN            \n",
       "3                                           El audio            \n",
       "4                                                NaN            \n",
       "\n",
       "   ¿Qué tan probable es que recomiendes está sesión a tus amigos o familiares?  \\\n",
       "0                                                 10                             \n",
       "1                                                 10                             \n",
       "2                                                 10                             \n",
       "3                                                  8                             \n",
       "4                                                 10                             \n",
       "\n",
       "                                 Aviso de Privacidad  \n",
       "0  He leído y estoy de acuerdo con el  AVISO DE P...  \n",
       "1  He leído y estoy de acuerdo con el  AVISO DE P...  \n",
       "2  He leído y estoy de acuerdo con el  AVISO DE P...  \n",
       "3  He leído y estoy de acuerdo con el  AVISO DE P...  \n",
       "4  He leído y estoy de acuerdo con el  AVISO DE P...  \n",
       "\n",
       "[5 rows x 35 columns]"
      ]
     },
     "execution_count": 2,
     "metadata": {},
     "output_type": "execute_result"
    }
   ],
   "source": [
    "data = pd.read_excel('data.xlsx', sheet_name='data_structured')\n",
    "data.head()"
   ]
  },
  {
   "cell_type": "markdown",
   "metadata": {},
   "source": [
    "* Extracting the columns that doesn't contain 'Otro (especifique)'"
   ]
  },
  {
   "cell_type": "code",
   "execution_count": 3,
   "metadata": {},
   "outputs": [],
   "source": [
    "import re\n",
    "regex = re.compile(r'Otro \\(especifique\\)')\n",
    "# if the column contains the regex, don't extract it\n",
    "valid_cols = []\n",
    "for col in data.columns:\n",
    "    if regex.search(col):\n",
    "        continue\n",
    "    else:\n",
    "        valid_cols.append(col)\n",
    "\n",
    "data_valid = data[valid_cols]\n",
    "data_others = data[[col for col in data.columns if col not in valid_cols]]"
   ]
  },
  {
   "cell_type": "markdown",
   "metadata": {},
   "source": [
    "## Data Profiling"
   ]
  },
  {
   "cell_type": "code",
   "execution_count": 4,
   "metadata": {},
   "outputs": [
    {
     "name": "stderr",
     "output_type": "stream",
     "text": [
      "/var/folders/8l/f787_tgj7sg6grwn27dvfx0h0000gn/T/ipykernel_55549/3848066059.py:2: DeprecationWarning: `import pandas_profiling` is going to be deprecated by April 1st. Please use `import ydata_profiling` instead.\n",
      "  import pandas_profiling as pp\n"
     ]
    }
   ],
   "source": [
    "# pandas profiling\n",
    "import pandas_profiling as pp\n",
    "\n",
    "# html = pp.ProfileReport(data_valid)\n",
    "# html.to_file(output_file=\"output.html\")"
   ]
  },
  {
   "cell_type": "markdown",
   "metadata": {},
   "source": [
    "* Checking whether *data_created* and *data_modified* have the same values"
   ]
  },
  {
   "cell_type": "code",
   "execution_count": 7,
   "metadata": {},
   "outputs": [
    {
     "data": {
      "text/html": [
       "<div>\n",
       "<style scoped>\n",
       "    .dataframe tbody tr th:only-of-type {\n",
       "        vertical-align: middle;\n",
       "    }\n",
       "\n",
       "    .dataframe tbody tr th {\n",
       "        vertical-align: top;\n",
       "    }\n",
       "\n",
       "    .dataframe thead th {\n",
       "        text-align: right;\n",
       "    }\n",
       "</style>\n",
       "<table border=\"1\" class=\"dataframe\">\n",
       "  <thead>\n",
       "    <tr style=\"text-align: right;\">\n",
       "      <th></th>\n",
       "      <th>date_created</th>\n",
       "      <th>date_modified</th>\n",
       "    </tr>\n",
       "  </thead>\n",
       "  <tbody>\n",
       "    <tr>\n",
       "      <th>0</th>\n",
       "      <td>2023-07-12 23:31:35</td>\n",
       "      <td>2023-07-12 23:33:45</td>\n",
       "    </tr>\n",
       "    <tr>\n",
       "      <th>1</th>\n",
       "      <td>2023-07-12 22:36:58</td>\n",
       "      <td>2023-07-12 22:41:13</td>\n",
       "    </tr>\n",
       "    <tr>\n",
       "      <th>2</th>\n",
       "      <td>2023-07-12 22:28:30</td>\n",
       "      <td>2023-07-12 22:33:27</td>\n",
       "    </tr>\n",
       "    <tr>\n",
       "      <th>3</th>\n",
       "      <td>2023-07-12 21:42:48</td>\n",
       "      <td>2023-07-12 22:17:30</td>\n",
       "    </tr>\n",
       "    <tr>\n",
       "      <th>4</th>\n",
       "      <td>2023-07-12 20:13:10</td>\n",
       "      <td>2023-07-12 22:07:11</td>\n",
       "    </tr>\n",
       "    <tr>\n",
       "      <th>...</th>\n",
       "      <td>...</td>\n",
       "      <td>...</td>\n",
       "    </tr>\n",
       "    <tr>\n",
       "      <th>204</th>\n",
       "      <td>2023-07-12 20:05:08</td>\n",
       "      <td>2023-07-12 20:08:20</td>\n",
       "    </tr>\n",
       "    <tr>\n",
       "      <th>205</th>\n",
       "      <td>2023-07-12 19:55:12</td>\n",
       "      <td>2023-07-12 20:03:34</td>\n",
       "    </tr>\n",
       "    <tr>\n",
       "      <th>206</th>\n",
       "      <td>2023-07-12 19:24:16</td>\n",
       "      <td>2023-07-12 19:30:48</td>\n",
       "    </tr>\n",
       "    <tr>\n",
       "      <th>207</th>\n",
       "      <td>2023-07-12 19:23:45</td>\n",
       "      <td>2023-07-12 19:27:15</td>\n",
       "    </tr>\n",
       "    <tr>\n",
       "      <th>208</th>\n",
       "      <td>2023-07-12 19:17:14</td>\n",
       "      <td>2023-07-12 19:19:41</td>\n",
       "    </tr>\n",
       "  </tbody>\n",
       "</table>\n",
       "<p>209 rows × 2 columns</p>\n",
       "</div>"
      ],
      "text/plain": [
       "           date_created       date_modified\n",
       "0   2023-07-12 23:31:35 2023-07-12 23:33:45\n",
       "1   2023-07-12 22:36:58 2023-07-12 22:41:13\n",
       "2   2023-07-12 22:28:30 2023-07-12 22:33:27\n",
       "3   2023-07-12 21:42:48 2023-07-12 22:17:30\n",
       "4   2023-07-12 20:13:10 2023-07-12 22:07:11\n",
       "..                  ...                 ...\n",
       "204 2023-07-12 20:05:08 2023-07-12 20:08:20\n",
       "205 2023-07-12 19:55:12 2023-07-12 20:03:34\n",
       "206 2023-07-12 19:24:16 2023-07-12 19:30:48\n",
       "207 2023-07-12 19:23:45 2023-07-12 19:27:15\n",
       "208 2023-07-12 19:17:14 2023-07-12 19:19:41\n",
       "\n",
       "[209 rows x 2 columns]"
      ]
     },
     "execution_count": 7,
     "metadata": {},
     "output_type": "execute_result"
    }
   ],
   "source": [
    "data.loc[:,['date_created', 'date_modified']]"
   ]
  },
  {
   "cell_type": "markdown",
   "metadata": {},
   "source": [
    "$\\therefore$ These columns are not the same, nevertheless *data_modified* is really useful to make an analysis to determine which hours are the most common to answer the survey. Since *date_created* is just the date when the survey was created, it is not useful for this analysis. Consequently, *date_modified* will be used, given that is the column that registers the **timestamp** when the survey was started answered."
   ]
  },
  {
   "cell_type": "code",
   "execution_count": 10,
   "metadata": {},
   "outputs": [],
   "source": [
    "# This will be analyzed in the other notebook\n",
    "hours_responding_survey = data.loc[:,['date_modified']]"
   ]
  },
  {
   "cell_type": "markdown",
   "metadata": {},
   "source": [
    "* Does all the devices are different?"
   ]
  },
  {
   "cell_type": "code",
   "execution_count": 14,
   "metadata": {},
   "outputs": [
    {
     "name": "stdout",
     "output_type": "stream",
     "text": [
      "The total different devices were 191 and the total of responses were 209\n"
     ]
    }
   ],
   "source": [
    "ip_address_different = len(data.loc[:,'ip_address'].drop_duplicates())\n",
    "print(f'The total different devices were {ip_address_different} and the total of responses were {len(data)}')"
   ]
  },
  {
   "cell_type": "code",
   "execution_count": 40,
   "metadata": {},
   "outputs": [
    {
     "data": {
      "text/html": [
       "<div>\n",
       "<style scoped>\n",
       "    .dataframe tbody tr th:only-of-type {\n",
       "        vertical-align: middle;\n",
       "    }\n",
       "\n",
       "    .dataframe tbody tr th {\n",
       "        vertical-align: top;\n",
       "    }\n",
       "\n",
       "    .dataframe thead th {\n",
       "        text-align: right;\n",
       "    }\n",
       "</style>\n",
       "<table border=\"1\" class=\"dataframe\">\n",
       "  <thead>\n",
       "    <tr style=\"text-align: right;\">\n",
       "      <th></th>\n",
       "      <th>ip_address</th>\n",
       "      <th>Nombre completo:</th>\n",
       "      <th>Correo electrónico:</th>\n",
       "    </tr>\n",
       "  </thead>\n",
       "  <tbody>\n",
       "    <tr>\n",
       "      <th>35</th>\n",
       "      <td>177.231.27.236</td>\n",
       "      <td>LILIAN ROMERO ROMERO</td>\n",
       "      <td>lilian072020@hotmail.com</td>\n",
       "    </tr>\n",
       "    <tr>\n",
       "      <th>67</th>\n",
       "      <td>177.231.27.236</td>\n",
       "      <td>JOSE BARDESI MANI</td>\n",
       "      <td>bardesi500@hotmail.com</td>\n",
       "    </tr>\n",
       "    <tr>\n",
       "      <th>126</th>\n",
       "      <td>177.247.115.170</td>\n",
       "      <td>Claudia Gabriela Miranda Martinez</td>\n",
       "      <td>freyagreypool@gmail.com</td>\n",
       "    </tr>\n",
       "    <tr>\n",
       "      <th>177</th>\n",
       "      <td>177.247.115.170</td>\n",
       "      <td>Ma. Concepción Miranda Martínez</td>\n",
       "      <td>connymar1@yahoo.com</td>\n",
       "    </tr>\n",
       "    <tr>\n",
       "      <th>81</th>\n",
       "      <td>177.247.115.170</td>\n",
       "      <td>MA. CONCEPCIÓN MIRANDA MARTÍNEZ</td>\n",
       "      <td>connymar1@yahoo.com</td>\n",
       "    </tr>\n",
       "  </tbody>\n",
       "</table>\n",
       "</div>"
      ],
      "text/plain": [
       "          ip_address                    Nombre completo:  \\\n",
       "35    177.231.27.236                LILIAN ROMERO ROMERO   \n",
       "67    177.231.27.236                   JOSE BARDESI MANI   \n",
       "126  177.247.115.170  Claudia Gabriela Miranda Martinez    \n",
       "177  177.247.115.170    Ma. Concepción Miranda Martínez    \n",
       "81   177.247.115.170     MA. CONCEPCIÓN MIRANDA MARTÍNEZ   \n",
       "\n",
       "          Correo electrónico:  \n",
       "35   lilian072020@hotmail.com  \n",
       "67     bardesi500@hotmail.com  \n",
       "126  freyagreypool@gmail.com   \n",
       "177      connymar1@yahoo.com   \n",
       "81        connymar1@yahoo.com  "
      ]
     },
     "execution_count": 40,
     "metadata": {},
     "output_type": "execute_result"
    }
   ],
   "source": [
    "ip_duplicated = data[data['ip_address'].duplicated(keep=False)].sort_values(by='ip_address').loc[:,['ip_address','Nombre completo:', 'Correo electrónico:']]\n",
    "ip_duplicated.head()"
   ]
  },
  {
   "cell_type": "markdown",
   "metadata": {},
   "source": [
    "Here we need to make a record linkage to verify if there exist some repeated participants in the survey."
   ]
  },
  {
   "cell_type": "markdown",
   "metadata": {},
   "source": [
    "* Verify if the columns *email_address*, *first_name*, *last_name* and *custom_1* contains any single value"
   ]
  },
  {
   "cell_type": "code",
   "execution_count": 43,
   "metadata": {},
   "outputs": [
    {
     "name": "stdout",
     "output_type": "stream",
     "text": [
      "<class 'pandas.core.frame.DataFrame'>\n",
      "RangeIndex: 209 entries, 0 to 208\n",
      "Data columns (total 4 columns):\n",
      " #   Column         Non-Null Count  Dtype  \n",
      "---  ------         --------------  -----  \n",
      " 0   email_address  0 non-null      float64\n",
      " 1   first_name     0 non-null      float64\n",
      " 2   last_name      0 non-null      float64\n",
      " 3   custom_1       0 non-null      float64\n",
      "dtypes: float64(4)\n",
      "memory usage: 6.7 KB\n"
     ]
    }
   ],
   "source": [
    "data.loc[:,['email_address', 'first_name', 'last_name', 'custom_1']].info()"
   ]
  },
  {
   "cell_type": "markdown",
   "metadata": {},
   "source": [
    "No, so we can delete them from the dataset."
   ]
  },
  {
   "cell_type": "code",
   "execution_count": 44,
   "metadata": {},
   "outputs": [],
   "source": [
    "data = data.drop(columns=['email_address', 'first_name', 'last_name', 'custom_1'])"
   ]
  },
  {
   "cell_type": "markdown",
   "metadata": {},
   "source": [
    "* ¿Qué podriamos mejorar en los eventos de Academia Aesculap?"
   ]
  },
  {
   "cell_type": "code",
   "execution_count": 46,
   "metadata": {},
   "outputs": [
    {
     "data": {
      "text/plain": [
       "El audio    9\n",
       "Name: ¿Qué podriamos mejorar en los eventos de Academia Aesculap?, dtype: int64"
      ]
     },
     "execution_count": 46,
     "metadata": {},
     "output_type": "execute_result"
    }
   ],
   "source": [
    "data['¿Qué podriamos mejorar en los eventos de Academia Aesculap?'].value_counts()"
   ]
  },
  {
   "cell_type": "markdown",
   "metadata": {},
   "source": [
    "## Data Cleaning"
   ]
  },
  {
   "cell_type": "code",
   "execution_count": null,
   "metadata": {},
   "outputs": [],
   "source": []
  }
 ],
 "metadata": {
  "kernelspec": {
   "display_name": "py",
   "language": "python",
   "name": "python3"
  },
  "language_info": {
   "codemirror_mode": {
    "name": "ipython",
    "version": 3
   },
   "file_extension": ".py",
   "mimetype": "text/x-python",
   "name": "python",
   "nbconvert_exporter": "python",
   "pygments_lexer": "ipython3",
   "version": "3.10.11"
  },
  "orig_nbformat": 4
 },
 "nbformat": 4,
 "nbformat_minor": 2
}
