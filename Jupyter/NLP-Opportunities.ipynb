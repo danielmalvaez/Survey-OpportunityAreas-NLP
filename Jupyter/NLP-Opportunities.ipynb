{
 "cells": [
  {
   "cell_type": "markdown",
   "metadata": {},
   "source": [
    "# NLP for opportunities\n",
    "\n",
    "This notebook is intended to analyze the data of the monthly webinars in the AESCULAP ACADEMY FOUNDATION MEXICO. This kind of data is totally unstructured and simple natural language from open responses at surveys. The main goal is to extract the most important words and phrases from the data and to create a word cloud to visualize the results.\n",
    "\n",
    "Author : Axel Daniel Malváez Flores  \n",
    "Date : July 13th, 2023  \n",
    "Version : 1.0.0  "
   ]
  },
  {
   "cell_type": "code",
   "execution_count": 34,
   "metadata": {},
   "outputs": [],
   "source": [
    "# Needed dependencies for the NLP\n",
    "\n",
    "#!pip install -U pip setuptools wheel\n",
    "#!pip install spacy\n",
    "#!python -m spacy download en_core_web_sm\n",
    "#!python -m spacy download es_core_news_sm"
   ]
  },
  {
   "cell_type": "code",
   "execution_count": 35,
   "metadata": {},
   "outputs": [],
   "source": [
    "# Required Packages\n",
    "import pandas as pd\n",
    "import numpy as np\n",
    "import matplotlib.pyplot as plt\n",
    "import seaborn as sns\n",
    "import os\n",
    "\n",
    "sns.set_style('whitegrid')"
   ]
  },
  {
   "cell_type": "markdown",
   "metadata": {},
   "source": [
    "## Reading Data\n",
    "\n",
    "In order to read all the files with only having the extension \".xlsx\", we just simply list all the files in the directory and then filter them by the extension."
   ]
  },
  {
   "cell_type": "code",
   "execution_count": 36,
   "metadata": {},
   "outputs": [],
   "source": [
    "super_path = '../Survey-Results'\n",
    "file_names = os.listdir(super_path)\n",
    "\n",
    "data_from_files = []\n",
    "\n",
    "for file in file_names:\n",
    "    if file.endswith('.xlsx'):\n",
    "        data = pd.read_excel('../Survey-Results/' + file, sheet_name='NLP')\n",
    "        data_from_files.append(data)"
   ]
  },
  {
   "cell_type": "markdown",
   "metadata": {},
   "source": [
    "## NLP\n",
    "\n",
    "This kind of content requires a natural language processing due to the size of the data and the complexity of the text. We will use the **SpaCy** library to process the text and extract the information we need."
   ]
  },
  {
   "cell_type": "code",
   "execution_count": 37,
   "metadata": {},
   "outputs": [],
   "source": [
    "# Selecting Data\n",
    "liked, interests = data_from_files[0].iloc[:,0], data_from_files[0].iloc[:,1]"
   ]
  },
  {
   "cell_type": "markdown",
   "metadata": {},
   "source": [
    "Ejemplo"
   ]
  },
  {
   "cell_type": "code",
   "execution_count": 38,
   "metadata": {},
   "outputs": [
    {
     "name": "stdout",
     "output_type": "stream",
     "text": [
      "['Spacy', 'excelente', 'librería', 'procesamiento', 'lenguaje', 'natural', '.']\n"
     ]
    }
   ],
   "source": [
    "import spacy\n",
    "\n",
    "# Load the Spanish model\n",
    "nlp = spacy.load(\"es_core_news_sm\")\n",
    "\n",
    "# Sample text\n",
    "text = \"Spacy es una excelente librería para el procesamiento de lenguaje natural.\"\n",
    "\n",
    "# Process the text\n",
    "doc = nlp(text)\n",
    "\n",
    "# Filter out stop words and print non-stop words\n",
    "non_stop_words = [token.text for token in doc if not token.is_stop]\n",
    "print(non_stop_words)\n"
   ]
  },
  {
   "cell_type": "markdown",
   "metadata": {},
   "source": [
    "### Preprocessing the text\n",
    "\n",
    "First we need to quit the stop words of the setences."
   ]
  },
  {
   "cell_type": "code",
   "execution_count": 40,
   "metadata": {},
   "outputs": [
    {
     "data": {
      "text/plain": [
       "0      La explicación fue clara y sobre todo comprendida\n",
       "1      Que las sesiones sean vía zoom, lo que me gust...\n",
       "2                                                  Todo \n",
       "3                                              Temática \n",
       "4      El Dr. explicó muy detalladamente la fisiopato...\n",
       "                             ...                        \n",
       "232                                                 Todo\n",
       "233                                  Toda la información\n",
       "234                                              Cirugía\n",
       "235                                                 Todo\n",
       "236                       La experiencia de los ponentes\n",
       "Name: ¿Qué es lo que más te gusta?, Length: 237, dtype: object"
      ]
     },
     "execution_count": 40,
     "metadata": {},
     "output_type": "execute_result"
    }
   ],
   "source": [
    "import spacy\n",
    "\n",
    "nlp = spacy.load('es_core_news_sm')\n",
    "\n"
   ]
  }
 ],
 "metadata": {
  "kernelspec": {
   "display_name": "py",
   "language": "python",
   "name": "python3"
  },
  "language_info": {
   "codemirror_mode": {
    "name": "ipython",
    "version": 3
   },
   "file_extension": ".py",
   "mimetype": "text/x-python",
   "name": "python",
   "nbconvert_exporter": "python",
   "pygments_lexer": "ipython3",
   "version": "3.10.11"
  },
  "orig_nbformat": 4
 },
 "nbformat": 4,
 "nbformat_minor": 2
}
